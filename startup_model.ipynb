{
 "cells": [
  {
   "cell_type": "code",
   "execution_count": 115,
   "id": "66269f66",
   "metadata": {
    "ExecuteTime": {
     "end_time": "2021-12-12T08:09:12.910078Z",
     "start_time": "2021-12-12T08:09:12.903535Z"
    }
   },
   "outputs": [],
   "source": [
    "import mailbox\n",
    "import pandas as pd\n",
    "from bs4 import BeautifulSoup as bs\n",
    "import seaborn as sns\n",
    "import matplotlib.pyplot as plt\n",
    "import pickle"
   ]
  },
  {
   "cell_type": "code",
   "execution_count": 86,
   "id": "43bd5961",
   "metadata": {
    "ExecuteTime": {
     "end_time": "2021-12-11T20:46:58.282367Z",
     "start_time": "2021-12-11T20:46:58.253024Z"
    }
   },
   "outputs": [],
   "source": [
    "from bs4 import BeautifulSoup as bs\n",
    "import mailbox\n",
    "import pandas as pd\n",
    "import re\n",
    "from sklearn.feature_extraction.text import TfidfVectorizer\n",
    "from sklearn.linear_model import SGDClassifier\n",
    "from sklearn.model_selection import GridSearchCV\n",
    "from sklearn.pipeline import Pipeline\n",
    "from sklearn.ensemble import RandomForestClassifier\n",
    "\n",
    "#import nltk.corpus\n",
    "#nltk.download('stopwords')\n",
    "#nltk.download('wordnet')\n",
    "#from nltk.corpus import stopwords\n",
    "#from nltk.stem import WordNetLemmatizer"
   ]
  },
  {
   "cell_type": "code",
   "execution_count": 19,
   "id": "b38793c9",
   "metadata": {
    "ExecuteTime": {
     "end_time": "2021-12-11T16:09:25.756218Z",
     "start_time": "2021-12-11T16:09:25.222122Z"
    },
    "scrolled": true
   },
   "outputs": [],
   "source": [
    "df = pd.read_pickle('/root/work/_Temp/StartUp/startup.pkl')"
   ]
  },
  {
   "cell_type": "code",
   "execution_count": 20,
   "id": "b52a6da1",
   "metadata": {
    "ExecuteTime": {
     "end_time": "2021-12-11T16:09:25.768058Z",
     "start_time": "2021-12-11T16:09:25.757878Z"
    }
   },
   "outputs": [],
   "source": [
    "X_train = df['clear_text']\n",
    "y_train = df['target']"
   ]
  },
  {
   "cell_type": "code",
   "execution_count": 21,
   "id": "1a88d0e4",
   "metadata": {
    "ExecuteTime": {
     "end_time": "2021-12-11T16:09:25.948021Z",
     "start_time": "2021-12-11T16:09:25.943017Z"
    }
   },
   "outputs": [
    {
     "data": {
      "text/plain": [
       "1    10659\n",
       "0     4391\n",
       "Name: target, dtype: int64"
      ]
     },
     "execution_count": 21,
     "metadata": {},
     "output_type": "execute_result"
    }
   ],
   "source": [
    "df['target'].value_counts()"
   ]
  },
  {
   "cell_type": "code",
   "execution_count": 72,
   "id": "3bcb603a",
   "metadata": {
    "ExecuteTime": {
     "end_time": "2021-12-11T20:25:41.403163Z",
     "start_time": "2021-12-11T20:01:18.712058Z"
    }
   },
   "outputs": [
    {
     "name": "stdout",
     "output_type": "stream",
     "text": [
      "Fitting 5 folds for each of 1944 candidates, totalling 9720 fits\n"
     ]
    },
    {
     "data": {
      "text/plain": [
       "GridSearchCV(estimator=Pipeline(steps=[('vec', TfidfVectorizer()),\n",
       "                                       ('clf',\n",
       "                                        SGDClassifier(loss='modified_huber'))]),\n",
       "             n_jobs=-1,\n",
       "             param_grid={'clf__alpha': (0.0001, 1e-05, 1e-06),\n",
       "                         'clf__max_iter': (10, 50, 80, 90, 120, 150),\n",
       "                         'clf__penalty': ('l1', 'l2', 'elasticnet'),\n",
       "                         'vec__max_features': (None, 100, 200, 300, 500, 700,\n",
       "                                               1000, 1500, 2000),\n",
       "                         'vec__ngram_range': ((1, 1), (1, 2), (1, 3), (1, 4))},\n",
       "             scoring='roc_auc', verbose=1)"
      ]
     },
     "execution_count": 72,
     "metadata": {},
     "output_type": "execute_result"
    }
   ],
   "source": [
    "pipeline = Pipeline([\n",
    "    ('vec', TfidfVectorizer()),\n",
    "    ('clf', SGDClassifier(loss='modified_huber')),\n",
    "])\n",
    "\n",
    "# Поиск лучших гиперпараметров\n",
    "parameters = {\n",
    "    'vec__max_features': (None, 100, 200, 300, 500, 700, 1000, 1500, 2000),\n",
    "    'vec__ngram_range': ((1, 1), (1, 2), (1, 3), (1, 4)),\n",
    "    'clf__alpha': (0.0001, 0.00001, 0.000001),\n",
    "    'clf__penalty': ('l1', 'l2', 'elasticnet'),\n",
    "    'clf__max_iter': (10, 50, 80, 90, 120, 150),\n",
    "}\n",
    "\n",
    "gs_sgd = GridSearchCV(\n",
    "    pipeline, parameters, \n",
    "    scoring='roc_auc',\n",
    "    n_jobs=-1, \n",
    "    verbose=1)\n",
    "gs_sgd.fit(X_train, y_train)"
   ]
  },
  {
   "cell_type": "code",
   "execution_count": 73,
   "id": "05e2b484",
   "metadata": {
    "ExecuteTime": {
     "end_time": "2021-12-11T20:25:41.409829Z",
     "start_time": "2021-12-11T20:25:41.405096Z"
    }
   },
   "outputs": [
    {
     "name": "stdout",
     "output_type": "stream",
     "text": [
      "ROC AUC: 0.763\n",
      "Лучшие гиперпараметры:\n"
     ]
    },
    {
     "data": {
      "text/plain": [
       "{'clf__alpha': 1e-05,\n",
       " 'clf__max_iter': 120,\n",
       " 'clf__penalty': 'l1',\n",
       " 'vec__max_features': 100,\n",
       " 'vec__ngram_range': (1, 4)}"
      ]
     },
     "execution_count": 73,
     "metadata": {},
     "output_type": "execute_result"
    }
   ],
   "source": [
    "print('ROC AUC:', round(gs_sgd.best_score_, 3))\n",
    "print('Лучшие гиперпараметры:')\n",
    "gs_sgd.best_params_"
   ]
  },
  {
   "cell_type": "code",
   "execution_count": 74,
   "id": "b1252d13",
   "metadata": {
    "ExecuteTime": {
     "end_time": "2021-12-11T20:35:12.085284Z",
     "start_time": "2021-12-11T20:35:11.627186Z"
    },
    "scrolled": false
   },
   "outputs": [
    {
     "data": {
      "image/png": "[encoded data removed]",
      "text/plain": [
       "<Figure size 1224x720 with 1 Axes>"
      ]
     },
     "metadata": {
      "needs_background": "light"
     },
     "output_type": "display_data"
    }
   ],
   "source": [
    "feature_name = gs_sgd.best_estimator_.named_steps['vec'].get_feature_names()\n",
    "coef = gs_sgd.best_estimator_.named_steps['clf'].coef_.flatten()\n",
    "\n",
    "importance = pd.DataFrame({\n",
    "    'feature': feature_name,\n",
    "    'importance': abs(coef)\n",
    "}).sort_values(by='importance', ascending=False)\n",
    "\n",
    "plt.figure(figsize=(17,10))\n",
    "sns.barplot(data=importance[:30], x='importance', y='feature', orient='h');"
   ]
  },
  {
   "cell_type": "code",
   "execution_count": 113,
   "id": "a24e7628",
   "metadata": {
    "ExecuteTime": {
     "end_time": "2021-12-12T07:50:48.181944Z",
     "start_time": "2021-12-12T07:50:44.265630Z"
    },
    "scrolled": true
   },
   "outputs": [
    {
     "data": {
      "text/html": [
       "<div>\n",
       "<style scoped>\n",
       "    .dataframe tbody tr th:only-of-type {\n",
       "        vertical-align: middle;\n",
       "    }\n",
       "\n",
       "    .dataframe tbody tr th {\n",
       "        vertical-align: top;\n",
       "    }\n",
       "\n",
       "    .dataframe thead th {\n",
       "        text-align: right;\n",
       "    }\n",
       "</style>\n",
       "<table border=\"1\" class=\"dataframe\">\n",
       "  <thead>\n",
       "    <tr style=\"text-align: right;\">\n",
       "      <th></th>\n",
       "      <th>UID</th>\n",
       "      <th>date</th>\n",
       "      <th>from</th>\n",
       "      <th>subject</th>\n",
       "      <th>content</th>\n",
       "      <th>content_type</th>\n",
       "      <th>raw_message</th>\n",
       "      <th>target</th>\n",
       "      <th>clear_text</th>\n",
       "      <th>score</th>\n",
       "      <th>VERDICT</th>\n",
       "    </tr>\n",
       "  </thead>\n",
       "  <tbody>\n",
       "    <tr>\n",
       "      <th>0</th>\n",
       "      <td>25ca3d36cc8af3ca00458e0b03d8e479348f369f</td>\n",
       "      <td>Thu, 18 Jan 2001 05:59:00 -0800 (PST)</td>\n",
       "      <td>vince.kaminski@enron.com</td>\n",
       "      <td>1 Candidate and 2 interns</td>\n",
       "      <td>Bryan\\n\\nPlease, take a look at the resume of ...</td>\n",
       "      <td>text/plain; charset=us-ascii</td>\n",
       "      <td>[Date, From, Subject, Content-Type, X-UID]</td>\n",
       "      <td>1</td>\n",
       "      <td>bryan please take look resume howard haughton ...</td>\n",
       "      <td>0.545102</td>\n",
       "      <td>1</td>\n",
       "    </tr>\n",
       "    <tr>\n",
       "      <th>1</th>\n",
       "      <td>6572c93686a1ade674d3d3f91d8d8ecf7f032ed9</td>\n",
       "      <td>Fri, 29 Sep 2000 07:02:00 -0700 (PDT)</td>\n",
       "      <td>tori.kuykendall@enron.com</td>\n",
       "      <td>Bank of the West customer service informs you!...</td>\n",
       "      <td>\\n\\n\\n\\nDear     Bank      of    the     West ...</td>\n",
       "      <td>multipart/alternative;\\n\\tboundary=\"--74KHQI_Z...</td>\n",
       "      <td>[Subject, Content-Type, From, Date, X-UID]</td>\n",
       "      <td>1</td>\n",
       "      <td>dear bank west client bank west customer servi...</td>\n",
       "      <td>1.000000</td>\n",
       "      <td>0</td>\n",
       "    </tr>\n",
       "    <tr>\n",
       "      <th>2</th>\n",
       "      <td>8cc9b26251dc2e3c1d8e04d94a1ebeecb7b2911f</td>\n",
       "      <td>Thu, 13 Apr 2000 10:16:00 -0700 (PDT)</td>\n",
       "      <td>kimberly.brown@enron.com</td>\n",
       "      <td>eBay - Important Notice</td>\n",
       "      <td>Dear eBay Customer,We recently noticed \\none o...</td>\n",
       "      <td>text/html;\\n\\tcharset=\"Windows-1251\"</td>\n",
       "      <td>[Subject, Content-Type, From, Date, X-UID]</td>\n",
       "      <td>1</td>\n",
       "      <td>dear ebay customer recently noticed one attemp...</td>\n",
       "      <td>1.000000</td>\n",
       "      <td>0</td>\n",
       "    </tr>\n",
       "    <tr>\n",
       "      <th>3</th>\n",
       "      <td>6d721e2e962c579a1030818aec94483b567d72bc</td>\n",
       "      <td>Fri, 18 Aug 2000 02:08:00 -0700 (PDT)</td>\n",
       "      <td>cathy.phillips@enron.com</td>\n",
       "      <td>Re-Confirm Online Acess</td>\n",
       "      <td>\\n\\n\\n\\n\\nBank of America Internal Mail Box No...</td>\n",
       "      <td>text/html</td>\n",
       "      <td>[Subject, Content-Type, From, Date, X-UID]</td>\n",
       "      <td>1</td>\n",
       "      <td>bank america internal mail box notification me...</td>\n",
       "      <td>1.000000</td>\n",
       "      <td>0</td>\n",
       "    </tr>\n",
       "    <tr>\n",
       "      <th>4</th>\n",
       "      <td>3306a3d19f4d6ed5de0a09e3bc5e4d536757852e</td>\n",
       "      <td>Fri, 27 Oct 2000 04:32:00 -0700 (PDT)</td>\n",
       "      <td>karen.heathman@enron.com</td>\n",
       "      <td>Your account access has been limited</td>\n",
       "      <td>\\n\\n\\nLimited Account Access Details\\n\\n\\n\\n\\n...</td>\n",
       "      <td>text/html;\\n\\tcharset=\"Windows-1251\"</td>\n",
       "      <td>[Subject, Content-Type, From, Date, X-UID]</td>\n",
       "      <td>1</td>\n",
       "      <td>limited account access detail pp_footer font f...</td>\n",
       "      <td>1.000000</td>\n",
       "      <td>0</td>\n",
       "    </tr>\n",
       "    <tr>\n",
       "      <th>...</th>\n",
       "      <td>...</td>\n",
       "      <td>...</td>\n",
       "      <td>...</td>\n",
       "      <td>...</td>\n",
       "      <td>...</td>\n",
       "      <td>...</td>\n",
       "      <td>...</td>\n",
       "      <td>...</td>\n",
       "      <td>...</td>\n",
       "      <td>...</td>\n",
       "      <td>...</td>\n",
       "    </tr>\n",
       "    <tr>\n",
       "      <th>10654</th>\n",
       "      <td>d147daa868084ace58c4921e6911c7fef5712460</td>\n",
       "      <td>Tue, 2 May 2000 07:36:00 -0700 (PDT)</td>\n",
       "      <td>susan.scott@enron.com</td>\n",
       "      <td>Re: FW: GIR Settlement Hearings - Practice Cro...</td>\n",
       "      <td>Sounds like a great idea -- let us know where/...</td>\n",
       "      <td>text/plain; charset=us-ascii</td>\n",
       "      <td>[Date, From, Subject, Content-Type, X-UID]</td>\n",
       "      <td>1</td>\n",
       "      <td>sound like great idea let know</td>\n",
       "      <td>0.451324</td>\n",
       "      <td>1</td>\n",
       "    </tr>\n",
       "    <tr>\n",
       "      <th>10655</th>\n",
       "      <td>b59c16dc71d8597df5089d7b137c56b89e5de872</td>\n",
       "      <td>Mon, 19 Mar 2001 23:59:00 -0800 (PST)</td>\n",
       "      <td>dan.hyvl@enron.com</td>\n",
       "      <td>Re: crestar / gulf aos contract....</td>\n",
       "      <td>Grant,\\n The problem is that they do not want ...</td>\n",
       "      <td>text/plain; charset=us-ascii</td>\n",
       "      <td>[Date, From, Subject, Content-Type, X-UID]</td>\n",
       "      <td>1</td>\n",
       "      <td>grant problem want assign agreement want parti...</td>\n",
       "      <td>0.296836</td>\n",
       "      <td>1</td>\n",
       "    </tr>\n",
       "    <tr>\n",
       "      <th>10656</th>\n",
       "      <td>5e718031cc33a08c9c8845f9b3f032d016ef5be6</td>\n",
       "      <td>Wed, 18 Apr 2001 18:37:00 -0700 (PDT)</td>\n",
       "      <td>james.derrick@enron.com</td>\n",
       "      <td>Question about item #260067307240 AIR-ZONE� PR...</td>\n",
       "      <td>\\n\\n\\n\\neBay sent this message to eBay Member....</td>\n",
       "      <td>multipart/alternative;\\n\\tboundary=\"--26956222...</td>\n",
       "      <td>[Subject, Content-Type, From, Date, X-UID]</td>\n",
       "      <td>1</td>\n",
       "      <td>ebay sent message ebay member registered nam i...</td>\n",
       "      <td>1.000000</td>\n",
       "      <td>0</td>\n",
       "    </tr>\n",
       "    <tr>\n",
       "      <th>10657</th>\n",
       "      <td>f98e2fd421519b36376dc6dbb19964e7d9c6cdff</td>\n",
       "      <td>Fri, 9 Feb 2001 03:34:00 -0800 (PST)</td>\n",
       "      <td>steven.south@enron.com</td>\n",
       "      <td>Verify your Paypal Account</td>\n",
       "      <td>We recently have determined that different com...</td>\n",
       "      <td>text/html;\\n\\tcharset=\"Windows-1251\"</td>\n",
       "      <td>[Subject, Content-Type, From, Date, X-UID]</td>\n",
       "      <td>1</td>\n",
       "      <td>recently determined different computer logged ...</td>\n",
       "      <td>1.000000</td>\n",
       "      <td>0</td>\n",
       "    </tr>\n",
       "    <tr>\n",
       "      <th>10658</th>\n",
       "      <td>ebf14f4f57855f1de1388cc2b71a4124bb7280d2</td>\n",
       "      <td>Tue, 5 Sep 2000 10:00:00 -0700 (PDT)</td>\n",
       "      <td>susan.pereira@enron.com</td>\n",
       "      <td>PayPal Notification!</td>\n",
       "      <td>\\n\\n\\nPayPal\\n\\n.dummy {}\\nBODY, TD {font-fami...</td>\n",
       "      <td>text/html;\\n\\tcharset=\"Windows-1251\"</td>\n",
       "      <td>[Subject, Content-Type, From, Date, X-UID]</td>\n",
       "      <td>1</td>\n",
       "      <td>paypal dummy body font family verdana arial he...</td>\n",
       "      <td>1.000000</td>\n",
       "      <td>0</td>\n",
       "    </tr>\n",
       "  </tbody>\n",
       "</table>\n",
       "<p>10659 rows × 11 columns</p>\n",
       "</div>"
      ],
      "text/plain": [
       "                                            UID  \\\n",
       "0      25ca3d36cc8af3ca00458e0b03d8e479348f369f   \n",
       "1      6572c93686a1ade674d3d3f91d8d8ecf7f032ed9   \n",
       "2      8cc9b26251dc2e3c1d8e04d94a1ebeecb7b2911f   \n",
       "3      6d721e2e962c579a1030818aec94483b567d72bc   \n",
       "4      3306a3d19f4d6ed5de0a09e3bc5e4d536757852e   \n",
       "...                                         ...   \n",
       "10654  d147daa868084ace58c4921e6911c7fef5712460   \n",
       "10655  b59c16dc71d8597df5089d7b137c56b89e5de872   \n",
       "10656  5e718031cc33a08c9c8845f9b3f032d016ef5be6   \n",
       "10657  f98e2fd421519b36376dc6dbb19964e7d9c6cdff   \n",
       "10658  ebf14f4f57855f1de1388cc2b71a4124bb7280d2   \n",
       "\n",
       "                                        date                       from  \\\n",
       "0      Thu, 18 Jan 2001 05:59:00 -0800 (PST)   vince.kaminski@enron.com   \n",
       "1      Fri, 29 Sep 2000 07:02:00 -0700 (PDT)  tori.kuykendall@enron.com   \n",
       "2      Thu, 13 Apr 2000 10:16:00 -0700 (PDT)   kimberly.brown@enron.com   \n",
       "3      Fri, 18 Aug 2000 02:08:00 -0700 (PDT)   cathy.phillips@enron.com   \n",
       "4      Fri, 27 Oct 2000 04:32:00 -0700 (PDT)   karen.heathman@enron.com   \n",
       "...                                      ...                        ...   \n",
       "10654   Tue, 2 May 2000 07:36:00 -0700 (PDT)      susan.scott@enron.com   \n",
       "10655  Mon, 19 Mar 2001 23:59:00 -0800 (PST)         dan.hyvl@enron.com   \n",
       "10656  Wed, 18 Apr 2001 18:37:00 -0700 (PDT)    james.derrick@enron.com   \n",
       "10657   Fri, 9 Feb 2001 03:34:00 -0800 (PST)     steven.south@enron.com   \n",
       "10658   Tue, 5 Sep 2000 10:00:00 -0700 (PDT)    susan.pereira@enron.com   \n",
       "\n",
       "                                                 subject  \\\n",
       "0                              1 Candidate and 2 interns   \n",
       "1      Bank of the West customer service informs you!...   \n",
       "2                                eBay - Important Notice   \n",
       "3                                Re-Confirm Online Acess   \n",
       "4                   Your account access has been limited   \n",
       "...                                                  ...   \n",
       "10654  Re: FW: GIR Settlement Hearings - Practice Cro...   \n",
       "10655                Re: crestar / gulf aos contract....   \n",
       "10656  Question about item #260067307240 AIR-ZONE� PR...   \n",
       "10657                         Verify your Paypal Account   \n",
       "10658                               PayPal Notification!   \n",
       "\n",
       "                                                 content  \\\n",
       "0      Bryan\\n\\nPlease, take a look at the resume of ...   \n",
       "1      \\n\\n\\n\\nDear     Bank      of    the     West ...   \n",
       "2      Dear eBay Customer,We recently noticed \\none o...   \n",
       "3      \\n\\n\\n\\n\\nBank of America Internal Mail Box No...   \n",
       "4      \\n\\n\\nLimited Account Access Details\\n\\n\\n\\n\\n...   \n",
       "...                                                  ...   \n",
       "10654  Sounds like a great idea -- let us know where/...   \n",
       "10655  Grant,\\n The problem is that they do not want ...   \n",
       "10656  \\n\\n\\n\\neBay sent this message to eBay Member....   \n",
       "10657  We recently have determined that different com...   \n",
       "10658  \\n\\n\\nPayPal\\n\\n.dummy {}\\nBODY, TD {font-fami...   \n",
       "\n",
       "                                            content_type  \\\n",
       "0                           text/plain; charset=us-ascii   \n",
       "1      multipart/alternative;\\n\\tboundary=\"--74KHQI_Z...   \n",
       "2                   text/html;\\n\\tcharset=\"Windows-1251\"   \n",
       "3                                              text/html   \n",
       "4                   text/html;\\n\\tcharset=\"Windows-1251\"   \n",
       "...                                                  ...   \n",
       "10654                       text/plain; charset=us-ascii   \n",
       "10655                       text/plain; charset=us-ascii   \n",
       "10656  multipart/alternative;\\n\\tboundary=\"--26956222...   \n",
       "10657               text/html;\\n\\tcharset=\"Windows-1251\"   \n",
       "10658               text/html;\\n\\tcharset=\"Windows-1251\"   \n",
       "\n",
       "                                      raw_message  target  \\\n",
       "0      [Date, From, Subject, Content-Type, X-UID]       1   \n",
       "1      [Subject, Content-Type, From, Date, X-UID]       1   \n",
       "2      [Subject, Content-Type, From, Date, X-UID]       1   \n",
       "3      [Subject, Content-Type, From, Date, X-UID]       1   \n",
       "4      [Subject, Content-Type, From, Date, X-UID]       1   \n",
       "...                                           ...     ...   \n",
       "10654  [Date, From, Subject, Content-Type, X-UID]       1   \n",
       "10655  [Date, From, Subject, Content-Type, X-UID]       1   \n",
       "10656  [Subject, Content-Type, From, Date, X-UID]       1   \n",
       "10657  [Subject, Content-Type, From, Date, X-UID]       1   \n",
       "10658  [Subject, Content-Type, From, Date, X-UID]       1   \n",
       "\n",
       "                                              clear_text     score  VERDICT  \n",
       "0      bryan please take look resume howard haughton ...  0.545102        1  \n",
       "1      dear bank west client bank west customer servi...  1.000000        0  \n",
       "2      dear ebay customer recently noticed one attemp...  1.000000        0  \n",
       "3      bank america internal mail box notification me...  1.000000        0  \n",
       "4      limited account access detail pp_footer font f...  1.000000        0  \n",
       "...                                                  ...       ...      ...  \n",
       "10654                     sound like great idea let know  0.451324        1  \n",
       "10655  grant problem want assign agreement want parti...  0.296836        1  \n",
       "10656  ebay sent message ebay member registered nam i...  1.000000        0  \n",
       "10657  recently determined different computer logged ...  1.000000        0  \n",
       "10658  paypal dummy body font family verdana arial he...  1.000000        0  \n",
       "\n",
       "[10659 rows x 11 columns]"
      ]
     },
     "execution_count": 113,
     "metadata": {},
     "output_type": "execute_result"
    }
   ],
   "source": [
    "preds = df.query('target == 1').copy()\n",
    "preds['score'] = gs_sgd.predict_proba(preds['clear_text'])[:,1]\n",
    "preds = preds.rename(columns={'id':'UID'})\n",
    "preds['VERDICT'] = (preds['score'] < 0.75).astype(int)\n",
    "preds"
   ]
  },
  {
   "cell_type": "code",
   "execution_count": 105,
   "id": "8336e93e",
   "metadata": {
    "ExecuteTime": {
     "end_time": "2021-12-11T21:27:01.415343Z",
     "start_time": "2021-12-11T21:27:01.391882Z"
    }
   },
   "outputs": [],
   "source": [
    "preds[['UID','VERDICT']].to_csv('/root/work/_Temp/StartUp/sub_1.csv', index=False)"
   ]
  },
  {
   "cell_type": "code",
   "execution_count": 103,
   "id": "2db32956",
   "metadata": {
    "ExecuteTime": {
     "end_time": "2021-12-11T21:26:47.237531Z",
     "start_time": "2021-12-11T21:26:47.215079Z"
    }
   },
   "outputs": [],
   "source": [
    "preds[['UID','VERDICT']].to_csv('/root/work/_Temp/StartUp/sub_09.csv', index=False)"
   ]
  },
  {
   "cell_type": "code",
   "execution_count": 107,
   "id": "5fe46f02",
   "metadata": {
    "ExecuteTime": {
     "end_time": "2021-12-12T07:36:01.288598Z",
     "start_time": "2021-12-12T07:36:01.266007Z"
    }
   },
   "outputs": [],
   "source": [
    "preds[['UID','VERDICT']].to_csv('/root/work/_Temp/StartUp/sub_095.csv', index=False)"
   ]
  },
  {
   "cell_type": "code",
   "execution_count": 110,
   "id": "a729c971",
   "metadata": {
    "ExecuteTime": {
     "end_time": "2021-12-12T07:36:26.052939Z",
     "start_time": "2021-12-12T07:36:26.030307Z"
    }
   },
   "outputs": [],
   "source": [
    "preds[['UID','VERDICT']].to_csv('/root/work/_Temp/StartUp/sub_085.csv', index=False)"
   ]
  },
  {
   "cell_type": "code",
   "execution_count": 112,
   "id": "e40a525a",
   "metadata": {
    "ExecuteTime": {
     "end_time": "2021-12-12T07:50:40.097026Z",
     "start_time": "2021-12-12T07:50:40.075278Z"
    }
   },
   "outputs": [],
   "source": [
    "preds[['UID','VERDICT']].to_csv('/root/work/_Temp/StartUp/sub_08.csv', index=False)"
   ]
  },
  {
   "cell_type": "code",
   "execution_count": 114,
   "id": "46692a91",
   "metadata": {
    "ExecuteTime": {
     "end_time": "2021-12-12T07:50:59.705733Z",
     "start_time": "2021-12-12T07:50:59.683744Z"
    }
   },
   "outputs": [],
   "source": [
    "preds[['UID','VERDICT']].to_csv('/root/work/_Temp/StartUp/sub_075.csv', index=False)"
   ]
  },
  {
   "cell_type": "code",
   "execution_count": 108,
   "id": "d30c7712",
   "metadata": {
    "ExecuteTime": {
     "end_time": "2021-12-12T07:36:05.554067Z",
     "start_time": "2021-12-12T07:36:05.550200Z"
    }
   },
   "outputs": [
    {
     "data": {
      "text/plain": [
       "5425"
      ]
     },
     "execution_count": 108,
     "metadata": {},
     "output_type": "execute_result"
    }
   ],
   "source": [
    "preds['VERDICT'].sum()"
   ]
  },
  {
   "cell_type": "code",
   "execution_count": 116,
   "id": "4c0d06ac",
   "metadata": {
    "ExecuteTime": {
     "end_time": "2021-12-12T08:10:12.432986Z",
     "start_time": "2021-12-12T08:10:11.017526Z"
    }
   },
   "outputs": [],
   "source": [
    "with open('/root/work/_Temp/StartUp/model1.pkl', 'wb') as f:\n",
    "    pickle.dump(gs_sgd, f)"
   ]
  },
  {
   "cell_type": "code",
   "execution_count": 82,
   "id": "eac2cab2",
   "metadata": {
    "ExecuteTime": {
     "end_time": "2021-12-11T20:37:33.308298Z",
     "start_time": "2021-12-11T20:37:33.076747Z"
    }
   },
   "outputs": [
    {
     "data": {
      "image/png": "[encoded data removed]",
      "text/plain": [
       "<Figure size 1224x360 with 1 Axes>"
      ]
     },
     "metadata": {
      "needs_background": "light"
     },
     "output_type": "display_data"
    }
   ],
   "source": [
    "plt.figure(figsize=(17,5))\n",
    "sns.histplot(preds['score']);"
   ]
  },
  {
   "cell_type": "code",
   "execution_count": 87,
   "id": "bd52f224",
   "metadata": {
    "ExecuteTime": {
     "end_time": "2021-12-11T20:49:01.959573Z",
     "start_time": "2021-12-11T20:47:02.046490Z"
    }
   },
   "outputs": [
    {
     "name": "stdout",
     "output_type": "stream",
     "text": [
      "Fitting 5 folds for each of 96 candidates, totalling 480 fits\n"
     ]
    },
    {
     "data": {
      "text/plain": [
       "GridSearchCV(estimator=Pipeline(steps=[('vec', TfidfVectorizer()),\n",
       "                                       ('clf', RandomForestClassifier())]),\n",
       "             n_jobs=-1,\n",
       "             param_grid={'clf__max_depth': [5, 10, 15, 20],\n",
       "                         'clf__n_estimators': [100],\n",
       "                         'vec__max_features': (100, 200, 300, 500, 700, 1000),\n",
       "                         'vec__ngram_range': ((1, 1), (1, 2), (1, 3), (1, 4))},\n",
       "             scoring='roc_auc', verbose=1)"
      ]
     },
     "execution_count": 87,
     "metadata": {},
     "output_type": "execute_result"
    }
   ],
   "source": [
    "pipeline = Pipeline([\n",
    "    ('vec', TfidfVectorizer()),\n",
    "    #('dec', TruncatedSVD()),\n",
    "    ('clf', RandomForestClassifier()),\n",
    "])\n",
    "\n",
    "parameters = {\n",
    "    'vec__max_features': (100, 200, 300, 500, 700, 1000),\n",
    "    'vec__ngram_range': ((1, 1), (1, 2), (1, 3), (1, 4)),\n",
    "    #'dec__n_components': [300],\n",
    "    'clf__n_estimators': [100],\n",
    "    'clf__max_depth': [5,10,15,20],\n",
    "}\n",
    "\n",
    "# Поиск лучших гиперпараметров\n",
    "gs_rf = GridSearchCV(\n",
    "    pipeline, parameters, \n",
    "    scoring='roc_auc',\n",
    "    n_jobs=-1, verbose=1)\n",
    "gs_rf.fit(X_train, y_train)"
   ]
  },
  {
   "cell_type": "code",
   "execution_count": 88,
   "id": "bf1661e2",
   "metadata": {
    "ExecuteTime": {
     "end_time": "2021-12-11T20:49:01.967038Z",
     "start_time": "2021-12-11T20:49:01.962119Z"
    }
   },
   "outputs": [
    {
     "name": "stdout",
     "output_type": "stream",
     "text": [
      "ROC AUC: 0.767\n",
      "Лучшие гиперпараметры:\n"
     ]
    },
    {
     "data": {
      "text/plain": [
       "{'clf__max_depth': 5,\n",
       " 'clf__n_estimators': 100,\n",
       " 'vec__max_features': 100,\n",
       " 'vec__ngram_range': (1, 4)}"
      ]
     },
     "execution_count": 88,
     "metadata": {},
     "output_type": "execute_result"
    }
   ],
   "source": [
    "print('ROC AUC:', round(gs_rf.best_score_, 3))\n",
    "print('Лучшие гиперпараметры:')\n",
    "gs_rf.best_params_"
   ]
  },
  {
   "cell_type": "code",
   "execution_count": null,
   "id": "f65fb525",
   "metadata": {},
   "outputs": [],
   "source": []
  },
  {
   "cell_type": "code",
   "execution_count": null,
   "id": "1d43d93c",
   "metadata": {},
   "outputs": [],
   "source": []
  },
  {
   "cell_type": "code",
   "execution_count": null,
   "id": "0085ee71",
   "metadata": {},
   "outputs": [],
   "source": []
  },
  {
   "cell_type": "code",
   "execution_count": null,
   "id": "0c72018d",
   "metadata": {},
   "outputs": [],
   "source": []
  }
 ],
 "metadata": {
  "kernelspec": {
   "display_name": "vyacheslav.koloskov_test1:3.9",
   "language": "python",
   "name": "test1"
  },
  "language_info": {
   "codemirror_mode": {
    "name": "ipython",
    "version": 3
   },
   "file_extension": ".py",
   "mimetype": "text/x-python",
   "name": "python",
   "nbconvert_exporter": "python",
   "pygments_lexer": "ipython3",
   "version": "3.6.8"
  },
  "toc": {
   "base_numbering": 1,
   "nav_menu": {},
   "number_sections": true,
   "sideBar": true,
   "skip_h1_title": false,
   "title_cell": "Table of Contents",
   "title_sidebar": "Contents",
   "toc_cell": false,
   "toc_position": {},
   "toc_section_display": true,
   "toc_window_display": false
  }
 },
 "nbformat": 4,
 "nbformat_minor": 5
}
