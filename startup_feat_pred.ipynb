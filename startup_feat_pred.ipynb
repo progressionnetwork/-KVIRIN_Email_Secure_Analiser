{
  "nbformat": 4,
  "nbformat_minor": 0,
  "metadata": {
    "colab": {
      "name": "startup_feat",
      "provenance": [],
      "collapsed_sections": []
    },
    "kernelspec": {
      "name": "python3",
      "display_name": "Python 3"
    },
    "language_info": {
      "name": "python"
    }
  },
  "cells": [
    {
      "cell_type": "code",
      "source": [
        "!pip install beautifulsoup4 \n",
        "!pip install requests"
      ],
      "metadata": {
        "colab": {
          "base_uri": "https://localhost:8080/"
        },
        "id": "O-tNaJ1tyOYW",
        "outputId": "f4d93657-e694-4089-ea6a-5be99ab4921d"
      },
      "execution_count": 1,
      "outputs": [
        {
          "output_type": "stream",
          "name": "stdout",
          "text": [
            "Requirement already satisfied: beautifulsoup4 in /usr/local/lib/python3.7/dist-packages (4.6.3)\n",
            "Requirement already satisfied: requests in /usr/local/lib/python3.7/dist-packages (2.23.0)\n",
            "Requirement already satisfied: chardet<4,>=3.0.2 in /usr/local/lib/python3.7/dist-packages (from requests) (3.0.4)\n",
            "Requirement already satisfied: urllib3!=1.25.0,!=1.25.1,<1.26,>=1.21.1 in /usr/local/lib/python3.7/dist-packages (from requests) (1.24.3)\n",
            "Requirement already satisfied: certifi>=2017.4.17 in /usr/local/lib/python3.7/dist-packages (from requests) (2021.10.8)\n",
            "Requirement already satisfied: idna<3,>=2.5 in /usr/local/lib/python3.7/dist-packages (from requests) (2.10)\n"
          ]
        }
      ]
    },
    {
      "cell_type": "code",
      "execution_count": 2,
      "metadata": {
        "colab": {
          "base_uri": "https://localhost:8080/"
        },
        "id": "NG4Ea3w6KZPt",
        "outputId": "3967341f-973f-49c2-efe6-92e33ded9ed9"
      },
      "outputs": [
        {
          "output_type": "stream",
          "name": "stdout",
          "text": [
            "[nltk_data] Downloading package stopwords to /root/nltk_data...\n",
            "[nltk_data]   Unzipping corpora/stopwords.zip.\n",
            "[nltk_data] Downloading package wordnet to /root/nltk_data...\n",
            "[nltk_data]   Unzipping corpora/wordnet.zip.\n"
          ]
        }
      ],
      "source": [
        "from bs4 import BeautifulSoup as bs\n",
        "import mailbox\n",
        "import pandas as pd\n",
        "import re\n",
        "from sklearn.feature_extraction.text import TfidfVectorizer\n",
        "from sklearn.linear_model import SGDClassifier\n",
        "from sklearn.model_selection import GridSearchCV\n",
        "from sklearn.pipeline import Pipeline\n",
        "\n",
        "import nltk.corpus\n",
        "nltk.download('stopwords')\n",
        "nltk.download('wordnet')\n",
        "from nltk.corpus import stopwords\n",
        "from nltk.stem import WordNetLemmatizer"
      ]
    },
    {
      "cell_type": "code",
      "source": [
        "from google.colab import drive # Для работы с Google Drive\n",
        "drive.mount('/content/drive')"
      ],
      "metadata": {
        "colab": {
          "base_uri": "https://localhost:8080/"
        },
        "id": "3si4KRFMODgT",
        "outputId": "af62600b-755e-499f-dad1-a3cdddc6bbde"
      },
      "execution_count": 4,
      "outputs": [
        {
          "output_type": "stream",
          "name": "stdout",
          "text": [
            "Mounted at /content/drive\n"
          ]
        }
      ]
    },
    {
      "cell_type": "code",
      "source": [
        "def get_df(path):\n",
        "  dataset = []\n",
        "  for message in mailbox.mbox(path):\n",
        "\n",
        "      if message.is_multipart():\n",
        "          body = []\n",
        "          for part in message.walk():\n",
        "              if part.get_content_type() == 'text/plain' or part.get_content_type() == 'text/html':\n",
        "                  body.append(part.get_payload())\n",
        "          body = ' '.join(body)\n",
        "      else:\n",
        "          body = message.get_payload()\n",
        "              \n",
        "      dataset.append({\n",
        "          'id': message['X-UID'],\n",
        "          #'agent': message.get_from(),\n",
        "          'date': message['Date'],\n",
        "          'from': message['From'],        \n",
        "          'subject': message['Subject'],\n",
        "          'content': bs(body, 'html.parser').get_text(),\n",
        "          'content_type': message['Content-Type'],      \n",
        "          'raw_message': message\n",
        "      })\n",
        "      \n",
        "  dataset = pd.DataFrame(dataset)\n",
        "  return dataset"
      ],
      "metadata": {
        "id": "RGKdq_goy5KJ"
      },
      "execution_count": 6,
      "outputs": []
    },
    {
      "cell_type": "code",
      "source": [
        "train = get_df('/content/drive/MyDrive/startup/train.mbox')\n",
        "test = get_df('/content/drive/MyDrive/startup/test.mbox')\n",
        "\n",
        "train['target'] = 0\n",
        "test['target'] = 1\n",
        "\n",
        "df = pd.concat([train,test])\n",
        "df"
      ],
      "metadata": {
        "colab": {
          "base_uri": "https://localhost:8080/",
          "height": 1000
        },
        "id": "ST7WjX1_8IkQ",
        "outputId": "b1ea33d1-87de-4c4f-b795-cd5edabb348c"
      },
      "execution_count": 7,
      "outputs": [
        {
          "output_type": "stream",
          "name": "stderr",
          "text": [
            "/usr/local/lib/python3.7/dist-packages/bs4/__init__.py:336: UserWarning: \"http://gasmsgboard.corp.enron.com/msgframe.asp\n",
            "\" looks like a URL. Beautiful Soup is not an HTTP client. You should probably use an HTTP client like requests to get the document behind the URL, and feed that document to Beautiful Soup.\n",
            "  ' that document to Beautiful Soup.' % decoded_markup\n",
            "/usr/local/lib/python3.7/dist-packages/bs4/__init__.py:336: UserWarning: \"http://www.x10.com/home/offer.cgi?!BF1,../bluefish21c.htm?>bf021\n",
            "\" looks like a URL. Beautiful Soup is not an HTTP client. You should probably use an HTTP client like requests to get the document behind the URL, and feed that document to Beautiful Soup.\n",
            "  ' that document to Beautiful Soup.' % decoded_markup\n",
            "/usr/local/lib/python3.7/dist-packages/bs4/__init__.py:336: UserWarning: \"http://www.cob.ohio-state.edu/fin/journal/jofsites.htm\n",
            "\" looks like a URL. Beautiful Soup is not an HTTP client. You should probably use an HTTP client like requests to get the document behind the URL, and feed that document to Beautiful Soup.\n",
            "  ' that document to Beautiful Soup.' % decoded_markup\n",
            "/usr/local/lib/python3.7/dist-packages/bs4/__init__.py:336: UserWarning: \"http://www.pcquote.com/mypcquote/signup/thankyou.php\n",
            "\" looks like a URL. Beautiful Soup is not an HTTP client. You should probably use an HTTP client like requests to get the document behind the URL, and feed that document to Beautiful Soup.\n",
            "  ' that document to Beautiful Soup.' % decoded_markup\n",
            "/usr/local/lib/python3.7/dist-packages/bs4/__init__.py:336: UserWarning: \"http://www.science-finance.fr/publications.html\n",
            "http://www.science-finance.fr/publications.html\n",
            "http://www.science-finance.fr/publications.html\n",
            "\" looks like a URL. Beautiful Soup is not an HTTP client. You should probably use an HTTP client like requests to get the document behind the URL, and feed that document to Beautiful Soup.\n",
            "  ' that document to Beautiful Soup.' % decoded_markup\n",
            "/usr/local/lib/python3.7/dist-packages/bs4/__init__.py:336: UserWarning: \"http://www.libertyforelian.org/thanks2.html\n",
            "\" looks like a URL. Beautiful Soup is not an HTTP client. You should probably use an HTTP client like requests to get the document behind the URL, and feed that document to Beautiful Soup.\n",
            "  ' that document to Beautiful Soup.' % decoded_markup\n",
            "/usr/local/lib/python3.7/dist-packages/bs4/__init__.py:336: UserWarning: \"http://www-path.eecs.berkeley.edu:80/~ucenergy/PDFDown.html\n",
            "\" looks like a URL. Beautiful Soup is not an HTTP client. You should probably use an HTTP client like requests to get the document behind the URL, and feed that document to Beautiful Soup.\n",
            "  ' that document to Beautiful Soup.' % decoded_markup\n",
            "/usr/local/lib/python3.7/dist-packages/bs4/__init__.py:336: UserWarning: \"http://www.probability.net/\n",
            "\n",
            "http://www.iafe.org/fe_links.ihtml\n",
            "\n",
            "http://www.maths.uq.oz.au/~pkp/probweb/links.html\n",
            "\" looks like a URL. Beautiful Soup is not an HTTP client. You should probably use an HTTP client like requests to get the document behind the URL, and feed that document to Beautiful Soup.\n",
            "  ' that document to Beautiful Soup.' % decoded_markup\n",
            "/usr/local/lib/python3.7/dist-packages/bs4/__init__.py:336: UserWarning: \"http://interactive.wsj.com/articles/SB980723117779324889.htm\n",
            "\" looks like a URL. Beautiful Soup is not an HTTP client. You should probably use an HTTP client like requests to get the document behind the URL, and feed that document to Beautiful Soup.\n",
            "  ' that document to Beautiful Soup.' % decoded_markup\n",
            "/usr/local/lib/python3.7/dist-packages/bs4/__init__.py:336: UserWarning: \"http://www.sun-sentinel.com/sports/daily/detail/0,1136,33500000000108999,00.ht\n",
            "ml?\n",
            "\" looks like a URL. Beautiful Soup is not an HTTP client. You should probably use an HTTP client like requests to get the document behind the URL, and feed that document to Beautiful Soup.\n",
            "  ' that document to Beautiful Soup.' % decoded_markup\n",
            "/usr/local/lib/python3.7/dist-packages/bs4/__init__.py:336: UserWarning: \"https://www4.rsweb.com/61045/\n",
            "\" looks like a URL. Beautiful Soup is not an HTTP client. You should probably use an HTTP client like requests to get the document behind the URL, and feed that document to Beautiful Soup.\n",
            "  ' that document to Beautiful Soup.' % decoded_markup\n",
            "/usr/local/lib/python3.7/dist-packages/bs4/__init__.py:336: UserWarning: \"http://www.thebuzz.com/\n",
            "\" looks like a URL. Beautiful Soup is not an HTTP client. You should probably use an HTTP client like requests to get the document behind the URL, and feed that document to Beautiful Soup.\n",
            "  ' that document to Beautiful Soup.' % decoded_markup\n",
            "/usr/local/lib/python3.7/dist-packages/bs4/__init__.py:336: UserWarning: \"http://www.daily-blessings.com/bless107.htm\n",
            "\" looks like a URL. Beautiful Soup is not an HTTP client. You should probably use an HTTP client like requests to get the document behind the URL, and feed that document to Beautiful Soup.\n",
            "  ' that document to Beautiful Soup.' % decoded_markup\n",
            "/usr/local/lib/python3.7/dist-packages/bs4/__init__.py:336: UserWarning: \"http://messages.yahoo.com/bbs?.mm=FN&action=m&board=4687034&tid=ntap&sid=46870\n",
            "34&mid=40327\n",
            "\" looks like a URL. Beautiful Soup is not an HTTP client. You should probably use an HTTP client like requests to get the document behind the URL, and feed that document to Beautiful Soup.\n",
            "  ' that document to Beautiful Soup.' % decoded_markup\n",
            "/usr/local/lib/python3.7/dist-packages/bs4/__init__.py:336: UserWarning: \"http://messages.yahoo.com/bbs?.mm=FN&action=m&board=7081781&tid=ene&sid=708178\n",
            "1&mid=11711\n",
            "\" looks like a URL. Beautiful Soup is not an HTTP client. You should probably use an HTTP client like requests to get the document behind the URL, and feed that document to Beautiful Soup.\n",
            "  ' that document to Beautiful Soup.' % decoded_markup\n",
            "/usr/local/lib/python3.7/dist-packages/bs4/__init__.py:336: UserWarning: \"http://www.weather.com/weather/cities/us_tx_dallas.html\n",
            "\" looks like a URL. Beautiful Soup is not an HTTP client. You should probably use an HTTP client like requests to get the document behind the URL, and feed that document to Beautiful Soup.\n",
            "  ' that document to Beautiful Soup.' % decoded_markup\n",
            "/usr/local/lib/python3.7/dist-packages/bs4/__init__.py:336: UserWarning: \"http://rcommerce.us.dell.com/rcomm/config.asp?order_code=rcRC968773-52962\n",
            "\" looks like a URL. Beautiful Soup is not an HTTP client. You should probably use an HTTP client like requests to get the document behind the URL, and feed that document to Beautiful Soup.\n",
            "  ' that document to Beautiful Soup.' % decoded_markup\n",
            "/usr/local/lib/python3.7/dist-packages/bs4/__init__.py:336: UserWarning: \"http://www.eteamz.com/sherwoodbaseball/links/\n",
            "\" looks like a URL. Beautiful Soup is not an HTTP client. You should probably use an HTTP client like requests to get the document behind the URL, and feed that document to Beautiful Soup.\n",
            "  ' that document to Beautiful Soup.' % decoded_markup\n",
            "/usr/local/lib/python3.7/dist-packages/bs4/__init__.py:336: UserWarning: \"http://news.bbc.co.uk/hi/english/world/letter_from_america/newsid_708000/70817\n",
            "3.stm\n",
            "\" looks like a URL. Beautiful Soup is not an HTTP client. You should probably use an HTTP client like requests to get the document behind the URL, and feed that document to Beautiful Soup.\n",
            "  ' that document to Beautiful Soup.' % decoded_markup\n",
            "/usr/local/lib/python3.7/dist-packages/bs4/__init__.py:336: UserWarning: \"http://gasfundy.dev.corp.enron.com/\n",
            "\" looks like a URL. Beautiful Soup is not an HTTP client. You should probably use an HTTP client like requests to get the document behind the URL, and feed that document to Beautiful Soup.\n",
            "  ' that document to Beautiful Soup.' % decoded_markup\n",
            "/usr/local/lib/python3.7/dist-packages/bs4/__init__.py:336: UserWarning: \"http://cbs.sportsline.com/u/football/college/2000/sportsline115/\n",
            "\" looks like a URL. Beautiful Soup is not an HTTP client. You should probably use an HTTP client like requests to get the document behind the URL, and feed that document to Beautiful Soup.\n",
            "  ' that document to Beautiful Soup.' % decoded_markup\n",
            "/usr/local/lib/python3.7/dist-packages/bs4/__init__.py:336: UserWarning: \"http://www.sharperimage.com/us/en/catalog/productview.jhtml?pid=15975000&pcati\n",
            "d=22&catid=22\n",
            "\" looks like a URL. Beautiful Soup is not an HTTP client. You should probably use an HTTP client like requests to get the document behind the URL, and feed that document to Beautiful Soup.\n",
            "  ' that document to Beautiful Soup.' % decoded_markup\n",
            "/usr/local/lib/python3.7/dist-packages/bs4/__init__.py:336: UserWarning: \"http://www.mgmmiragevacations.com/bestbeau1.htm\n",
            "\" looks like a URL. Beautiful Soup is not an HTTP client. You should probably use an HTTP client like requests to get the document behind the URL, and feed that document to Beautiful Soup.\n",
            "  ' that document to Beautiful Soup.' % decoded_markup\n",
            "/usr/local/lib/python3.7/dist-packages/bs4/__init__.py:336: UserWarning: \"http://www.math.ethz.ch/finance/\n",
            "\" looks like a URL. Beautiful Soup is not an HTTP client. You should probably use an HTTP client like requests to get the document behind the URL, and feed that document to Beautiful Soup.\n",
            "  ' that document to Beautiful Soup.' % decoded_markup\n"
          ]
        },
        {
          "output_type": "execute_result",
          "data": {
            "text/html": [
              "<div>\n",
              "<style scoped>\n",
              "    .dataframe tbody tr th:only-of-type {\n",
              "        vertical-align: middle;\n",
              "    }\n",
              "\n",
              "    .dataframe tbody tr th {\n",
              "        vertical-align: top;\n",
              "    }\n",
              "\n",
              "    .dataframe thead th {\n",
              "        text-align: right;\n",
              "    }\n",
              "</style>\n",
              "<table border=\"1\" class=\"dataframe\">\n",
              "  <thead>\n",
              "    <tr style=\"text-align: right;\">\n",
              "      <th></th>\n",
              "      <th>id</th>\n",
              "      <th>date</th>\n",
              "      <th>from</th>\n",
              "      <th>subject</th>\n",
              "      <th>content</th>\n",
              "      <th>content_type</th>\n",
              "      <th>raw_message</th>\n",
              "      <th>target</th>\n",
              "    </tr>\n",
              "  </thead>\n",
              "  <tbody>\n",
              "    <tr>\n",
              "      <th>0</th>\n",
              "      <td>22eb6f5f2b4ab14cce43160e3edb0576b62194db</td>\n",
              "      <td>Tue, 17 Oct 2000 12:12:00 -0700 (PDT)</td>\n",
              "      <td>john.arnold@enron.com</td>\n",
              "      <td>Re: mkts</td>\n",
              "      <td>It's funny the spreads in gas.  First, in gas,...</td>\n",
              "      <td>text/plain; charset=us-ascii</td>\n",
              "      <td>[Date, From, Subject, Content-Type, X-UID]</td>\n",
              "      <td>0</td>\n",
              "    </tr>\n",
              "    <tr>\n",
              "      <th>1</th>\n",
              "      <td>cd5283327f06067f3e8f8c38f76942ce3d56d38b</td>\n",
              "      <td>Sun, 13 May 2001 08:54:00 -0700 (PDT)</td>\n",
              "      <td>john.arnold@enron.com</td>\n",
              "      <td>RE: Extra credit</td>\n",
              "      <td>have you taken any finance courses yet? what's...</td>\n",
              "      <td>text/plain; charset=us-ascii</td>\n",
              "      <td>[Date, From, Subject, Content-Type, X-UID]</td>\n",
              "      <td>0</td>\n",
              "    </tr>\n",
              "    <tr>\n",
              "      <th>2</th>\n",
              "      <td>05952d3c79f91678f473181ec07b3faab469fef7</td>\n",
              "      <td>Wed, 14 Mar 2001 09:17:00 -0800 (PST)</td>\n",
              "      <td>john.arnold@enron.com</td>\n",
              "      <td>Yahoo! Sports Tournament Pick'em</td>\n",
              "      <td>---------------------- Forwarded by John Arnol...</td>\n",
              "      <td>text/plain; charset=us-ascii</td>\n",
              "      <td>[Date, From, Subject, Content-Type, X-UID]</td>\n",
              "      <td>0</td>\n",
              "    </tr>\n",
              "    <tr>\n",
              "      <th>3</th>\n",
              "      <td>3d5336e0108e55f071aae9e619d69f468c9d3413</td>\n",
              "      <td>Mon, 16 Oct 2000 05:40:00 -0700 (PDT)</td>\n",
              "      <td>john.arnold@enron.com</td>\n",
              "      <td>Re: John Arnold's PC</td>\n",
              "      <td>how about 4:00?\\n\\n\\n\\n\\nIna Rangel\\n10/16/200...</td>\n",
              "      <td>text/plain; charset=us-ascii</td>\n",
              "      <td>[Date, From, Subject, Content-Type, X-UID]</td>\n",
              "      <td>0</td>\n",
              "    </tr>\n",
              "    <tr>\n",
              "      <th>4</th>\n",
              "      <td>2f1ae7889236050c295354d83fa06b2d9fc7f306</td>\n",
              "      <td>Wed, 28 Feb 2001 03:15:00 -0800 (PST)</td>\n",
              "      <td>john.arnold@enron.com</td>\n",
              "      <td>Re: mkts</td>\n",
              "      <td>freak show. cash started -7 then to -15 then -...</td>\n",
              "      <td>text/plain; charset=us-ascii</td>\n",
              "      <td>[Date, From, Subject, Content-Type, X-UID]</td>\n",
              "      <td>0</td>\n",
              "    </tr>\n",
              "    <tr>\n",
              "      <th>...</th>\n",
              "      <td>...</td>\n",
              "      <td>...</td>\n",
              "      <td>...</td>\n",
              "      <td>...</td>\n",
              "      <td>...</td>\n",
              "      <td>...</td>\n",
              "      <td>...</td>\n",
              "      <td>...</td>\n",
              "    </tr>\n",
              "    <tr>\n",
              "      <th>10654</th>\n",
              "      <td>d147daa868084ace58c4921e6911c7fef5712460</td>\n",
              "      <td>Tue, 2 May 2000 07:36:00 -0700 (PDT)</td>\n",
              "      <td>susan.scott@enron.com</td>\n",
              "      <td>Re: FW: GIR Settlement Hearings - Practice Cro...</td>\n",
              "      <td>Sounds like a great idea -- let us know where/...</td>\n",
              "      <td>text/plain; charset=us-ascii</td>\n",
              "      <td>[Date, From, Subject, Content-Type, X-UID]</td>\n",
              "      <td>1</td>\n",
              "    </tr>\n",
              "    <tr>\n",
              "      <th>10655</th>\n",
              "      <td>b59c16dc71d8597df5089d7b137c56b89e5de872</td>\n",
              "      <td>Mon, 19 Mar 2001 23:59:00 -0800 (PST)</td>\n",
              "      <td>dan.hyvl@enron.com</td>\n",
              "      <td>Re: crestar / gulf aos contract....</td>\n",
              "      <td>Grant,\\n The problem is that they do not want ...</td>\n",
              "      <td>text/plain; charset=us-ascii</td>\n",
              "      <td>[Date, From, Subject, Content-Type, X-UID]</td>\n",
              "      <td>1</td>\n",
              "    </tr>\n",
              "    <tr>\n",
              "      <th>10656</th>\n",
              "      <td>5e718031cc33a08c9c8845f9b3f032d016ef5be6</td>\n",
              "      <td>Wed, 18 Apr 2001 18:37:00 -0700 (PDT)</td>\n",
              "      <td>james.derrick@enron.com</td>\n",
              "      <td>Question about item #260067307240 AIR-ZONE� PR...</td>\n",
              "      <td>\\n\\n\\n\\neBay sent this message to eBay Member....</td>\n",
              "      <td>multipart/alternative;\\n\\tboundary=\"--26956222...</td>\n",
              "      <td>[Subject, Content-Type, From, Date, X-UID]</td>\n",
              "      <td>1</td>\n",
              "    </tr>\n",
              "    <tr>\n",
              "      <th>10657</th>\n",
              "      <td>f98e2fd421519b36376dc6dbb19964e7d9c6cdff</td>\n",
              "      <td>Fri, 9 Feb 2001 03:34:00 -0800 (PST)</td>\n",
              "      <td>steven.south@enron.com</td>\n",
              "      <td>Verify your Paypal Account</td>\n",
              "      <td>We recently have determined that different com...</td>\n",
              "      <td>text/html;\\n\\tcharset=\"Windows-1251\"</td>\n",
              "      <td>[Subject, Content-Type, From, Date, X-UID]</td>\n",
              "      <td>1</td>\n",
              "    </tr>\n",
              "    <tr>\n",
              "      <th>10658</th>\n",
              "      <td>ebf14f4f57855f1de1388cc2b71a4124bb7280d2</td>\n",
              "      <td>Tue, 5 Sep 2000 10:00:00 -0700 (PDT)</td>\n",
              "      <td>susan.pereira@enron.com</td>\n",
              "      <td>PayPal Notification!</td>\n",
              "      <td>\\n\\n\\nPayPal\\n\\n.dummy {}\\nBODY, TD {font-fami...</td>\n",
              "      <td>text/html;\\n\\tcharset=\"Windows-1251\"</td>\n",
              "      <td>[Subject, Content-Type, From, Date, X-UID]</td>\n",
              "      <td>1</td>\n",
              "    </tr>\n",
              "  </tbody>\n",
              "</table>\n",
              "<p>15050 rows × 8 columns</p>\n",
              "</div>"
            ],
            "text/plain": [
              "                                             id  ... target\n",
              "0      22eb6f5f2b4ab14cce43160e3edb0576b62194db  ...      0\n",
              "1      cd5283327f06067f3e8f8c38f76942ce3d56d38b  ...      0\n",
              "2      05952d3c79f91678f473181ec07b3faab469fef7  ...      0\n",
              "3      3d5336e0108e55f071aae9e619d69f468c9d3413  ...      0\n",
              "4      2f1ae7889236050c295354d83fa06b2d9fc7f306  ...      0\n",
              "...                                         ...  ...    ...\n",
              "10654  d147daa868084ace58c4921e6911c7fef5712460  ...      1\n",
              "10655  b59c16dc71d8597df5089d7b137c56b89e5de872  ...      1\n",
              "10656  5e718031cc33a08c9c8845f9b3f032d016ef5be6  ...      1\n",
              "10657  f98e2fd421519b36376dc6dbb19964e7d9c6cdff  ...      1\n",
              "10658  ebf14f4f57855f1de1388cc2b71a4124bb7280d2  ...      1\n",
              "\n",
              "[15050 rows x 8 columns]"
            ]
          },
          "metadata": {},
          "execution_count": 7
        }
      ]
    },
    {
      "cell_type": "code",
      "source": [
        "pd.set_option('max_colwidth', 400)\n",
        "\n",
        "stop = stopwords.words('english')\n",
        "lemmatizer = WordNetLemmatizer()\n",
        "\n",
        "#df['clear_text'] = df['content']\n",
        "df['clear_text'] = df[['subject','content']].apply(lambda x: str(x['subject']) + ' ' + x['content'], axis=1)\n",
        "df['clear_text'] = df['clear_text'].str.lower()\n",
        "df['clear_text'] = df['clear_text'].apply(lambda x: re.sub(r'[\\W\\d]', \" \", x))\n",
        "#df['clear_text'] = df['clear_text'].apply(lambda x: re.sub(r'[^a-zA-Z]', \" \", x))\n",
        "#df['clear_text'] = df['clear_text'].apply(lambda x: re.sub(r\"(@\\[A-Za-z0-9]+)|([^0-9A-Za-z \\t])|(\\w+:\\/\\/\\S+)|^rt|http.+?\", \" \", x)) # Removing Unicode Characters\n",
        "df['clear_text'] = df['clear_text'].apply(lambda x: \" \".join([lemmatizer.lemmatize(word) for word in x.split() if word not in (stop)])) # Лематизация \n",
        "df['clear_text'] = df['clear_text'].apply(lambda x: \" \".join([word for word in x.split() if len(word) > 2]))\n",
        "df[['subject','content','clear_text']]"
      ],
      "metadata": {
        "colab": {
          "base_uri": "https://localhost:8080/",
          "height": 927
        },
        "id": "od3L5t6-yGr_",
        "outputId": "9fa57097-a9c4-46cd-962a-19dfee009d03"
      },
      "execution_count": 16,
      "outputs": [
        {
          "output_type": "execute_result",
          "data": {
            "text/html": [
              "<div>\n",
              "<style scoped>\n",
              "    .dataframe tbody tr th:only-of-type {\n",
              "        vertical-align: middle;\n",
              "    }\n",
              "\n",
              "    .dataframe tbody tr th {\n",
              "        vertical-align: top;\n",
              "    }\n",
              "\n",
              "    .dataframe thead th {\n",
              "        text-align: right;\n",
              "    }\n",
              "</style>\n",
              "<table border=\"1\" class=\"dataframe\">\n",
              "  <thead>\n",
              "    <tr style=\"text-align: right;\">\n",
              "      <th></th>\n",
              "      <th>subject</th>\n",
              "      <th>content</th>\n",
              "      <th>clear_text</th>\n",
              "    </tr>\n",
              "  </thead>\n",
              "  <tbody>\n",
              "    <tr>\n",
              "      <th>0</th>\n",
              "      <td>Re: mkts</td>\n",
              "      <td>It's funny the spreads in gas.  First, in gas, you can play the seasonality \\ngame.  Does anybody want to buy M/N at 1 back.  No, of course not.  But in \\ncrude, m/n at .10 back is normal.  definitely a game as you try to keep month \\non month spreads somewhat within reason while preserving year on year spreads \\nand creating equilibrium for where cal 2 on back hedging and spec demand is.  \\nt...</td>\n",
              "      <td>mkts funny spread gas first gas play seasonality game anybody want buy back course crude back normal definitely game try keep month month spread somewhat within reason preserving year year spread creating equilibrium cal back hedging spec demand cal high last time bullish part nat gas curve prompt month remember looking chart always mentality tight july winter think winter spread piece fly int...</td>\n",
              "    </tr>\n",
              "    <tr>\n",
              "      <th>1</th>\n",
              "      <td>RE: Extra credit</td>\n",
              "      <td>have you taken any finance courses yet? what's good?\\n</td>\n",
              "      <td>extra credit taken finance course yet good</td>\n",
              "    </tr>\n",
              "    <tr>\n",
              "      <th>2</th>\n",
              "      <td>Yahoo! Sports Tournament Pick'em</td>\n",
              "      <td>---------------------- Forwarded by John Arnold/HOU/ECT on 03/14/2001 05:16 \\nPM ---------------------------\\n\\n\\n\"jfk51272@yahoo.com\" &lt;jfk51272 on 03/14/2001 11:13:41 AM\\nTo: jarnold@enron.com\\ncc:  \\nSubject: Yahoo! Sports Tournament Pick'em\\n\\n\\nWednesday, March 14, 09:13:39 AM PT\\n\\nHello jarnold@enron.com,\\n\\nYou have been invited to join jfk51272's Private Group in Yahoo!\\nSports Tournam...</td>\n",
              "      <td>yahoo sport tournament pick forwarded john arnold hou ect jfk yahoo com jfk jarnold enron com subject yahoo sport tournament pick wednesday march hello jarnold enron com invited join jfk private group yahoo sport tournament pick order join group http tournament fantasysports yahoo com men sign choose join private group prompted enter following information group password done send confirmation ...</td>\n",
              "    </tr>\n",
              "    <tr>\n",
              "      <th>3</th>\n",
              "      <td>Re: John Arnold's PC</td>\n",
              "      <td>how about 4:00?\\n\\n\\n\\n\\nIna Rangel\\n10/16/2000 11:03 AM\\nTo: John Arnold/HOU/ECT@ECT\\ncc:  \\nSubject: John Arnold's PC\\n\\nJohn,\\nWhen would be a good time for you.  After work maybe?\\n\\nIna\\n---------------------- Forwarded by Ina Rangel/HOU/ECT on 10/16/2000 11:02 AM \\n---------------------------\\nDON ADAM @ \\nENRON        \\n10/16/2000 10:06 AM\\n\\nTo: Ina Rangel/HOU/ECT@ECT\\ncc:  \\nSubject: ...</td>\n",
              "      <td>john arnold ina rangel john arnold hou ect ect subject john arnold john would good time work maybe ina forwarded ina rangel hou ect adam enron ina rangel hou ect ect subject john arnold ina could please john email direction house would good time come install equipment thanks</td>\n",
              "    </tr>\n",
              "    <tr>\n",
              "      <th>4</th>\n",
              "      <td>Re: mkts</td>\n",
              "      <td>freak show. cash started -7 then to -15 then -7 ended -15.\\n</td>\n",
              "      <td>mkts freak show cash started ended</td>\n",
              "    </tr>\n",
              "    <tr>\n",
              "      <th>...</th>\n",
              "      <td>...</td>\n",
              "      <td>...</td>\n",
              "      <td>...</td>\n",
              "    </tr>\n",
              "    <tr>\n",
              "      <th>10654</th>\n",
              "      <td>Re: FW: GIR Settlement Hearings - Practice Cross Examination</td>\n",
              "      <td>Sounds like a great idea -- let us know where/when.\\n</td>\n",
              "      <td>gir settlement hearing practice cross examination sound like great idea let know</td>\n",
              "    </tr>\n",
              "    <tr>\n",
              "      <th>10655</th>\n",
              "      <td>Re: crestar / gulf aos contract....</td>\n",
              "      <td>Grant,\\n The problem is that they do not want to assign the agreement.  They want to \\ndo a partial assignment which is unacceptable unless we can severe the \\ndocument so that we have two separate stand alone pieces of paper after the \\nassignment.  Talk to them about doing two Spot Confirmations, one for 0 to \\n8,400 MMBtu per day which would not be assignable, and the other one for 0 to \\n1...</td>\n",
              "      <td>crestar gulf aos contract grant problem want assign agreement want partial assignment unacceptable unless severe document two separate stand alone piece paper assignment talk two spot confirmation one mmbtu per day would assignable one mmbtu per day would assignable call discus grant dan hyvl hou ect ect subject crestar gulf aos contract keyspan crestar would like execute existing contract wor...</td>\n",
              "    </tr>\n",
              "    <tr>\n",
              "      <th>10656</th>\n",
              "      <td>Question about item #260067307240 AIR-ZONE� PROFESSIONAL 14,000 mg PRO OZONE GENERATOR!</td>\n",
              "      <td>\\n\\n\\n\\neBay sent this message to eBay Member.Your registered nam=\\ne is included to show this message originated from eBay. Learn more. \\n\\n\\n\\n\\n\\nQuestion about Item -- Respond Now \\n&lt;=\\n/TD&gt;\\n\\n\\n\\n\\n\\n\\n\\n\\n\\n\\n\\n\\n\\n\\neBa=\\ny sent this message on behalf of an eBay member through My Messages. Respo=\\nnses sent using email will go to the eBay member directly and will include=\\n your email ...</td>\n",
              "      <td>question item air zone professional pro ozone generator ebay sent message ebay member registered nam included show message originated ebay learn question item respond eba sent message behalf ebay member message respo sent using email ebay member directly include email address question ebay member air one positive eedback member sin dec location font united state registered www ebay com item ai...</td>\n",
              "    </tr>\n",
              "    <tr>\n",
              "      <th>10657</th>\n",
              "      <td>Verify your Paypal Account</td>\n",
              "      <td>We recently have determined that different computers have logged \\ninto your PayPal account, and multiple password failures were present before \\nthe login. One of our Customer Service employees has already tryed to \\ntelephonically reach you. As our employee did not manage to reach you, this \\nemail has been sent to your notice.Therefore your account has been temporary \\nsuspended. We need yo...</td>\n",
              "      <td>verify paypal account recently determined different computer logged paypal account multiple password failure present login one customer service employee already tryed telephonically reach employee manage reach email sent notice therefore account temporary suspended need confirm identity order regain full privilege account completed august reserve right terminate privilege account indefinitly m...</td>\n",
              "    </tr>\n",
              "    <tr>\n",
              "      <th>10658</th>\n",
              "      <td>PayPal Notification!</td>\n",
              "      <td>\\n\\n\\nPayPal\\n\\n.dummy {}\\nBODY, TD {font-family: verdana,arial,helvetica,sans-serif;font-size:\\n12px;color: #000000;}\\nLI {line-height: 120%;}\\nUL.ppsmallborder {margin:10px 5px 10px 20px;}\\nLI.ppsmallborderli {margin:0px 0px 5px 0px;}\\nUL.pp_narrow {margin:10px 5px 0px 40px;}\\nhr.dotted {width: 100%; margin-top: 0px; margin-bottom: 0px; border-left:\\n#fff; border-right: #fff; border-top: #ff...</td>\n",
              "      <td>paypal notification paypal dummy body font family verdana arial helvetica sans serif font size color line height ppsmallborder margin ppsmallborderli margin pp_narrow margin dotted width margin top margin bottom border left fff border right fff border top fff border bottom dotted ccc pp_label font family verdana arial helvetica sans serif font size font weight bold color pp_serifbig font famil...</td>\n",
              "    </tr>\n",
              "  </tbody>\n",
              "</table>\n",
              "<p>15050 rows × 3 columns</p>\n",
              "</div>"
            ],
            "text/plain": [
              "                                                                                       subject  ...                                                                                                                                                                                                                                                                                                                                                                                                       clear_text\n",
              "0                                                                                     Re: mkts  ...  mkts funny spread gas first gas play seasonality game anybody want buy back course crude back normal definitely game try keep month month spread somewhat within reason preserving year year spread creating equilibrium cal back hedging spec demand cal high last time bullish part nat gas curve prompt month remember looking chart always mentality tight july winter think winter spread piece fly int...\n",
              "1                                                                             RE: Extra credit  ...                                                                                                                                                                                                                                                                                                                                                                       extra credit taken finance course yet good\n",
              "2                                                             Yahoo! Sports Tournament Pick'em  ...  yahoo sport tournament pick forwarded john arnold hou ect jfk yahoo com jfk jarnold enron com subject yahoo sport tournament pick wednesday march hello jarnold enron com invited join jfk private group yahoo sport tournament pick order join group http tournament fantasysports yahoo com men sign choose join private group prompted enter following information group password done send confirmation ...\n",
              "3                                                                         Re: John Arnold's PC  ...                                                                                                                              john arnold ina rangel john arnold hou ect ect subject john arnold john would good time work maybe ina forwarded ina rangel hou ect adam enron ina rangel hou ect ect subject john arnold ina could please john email direction house would good time come install equipment thanks\n",
              "4                                                                                     Re: mkts  ...                                                                                                                                                                                                                                                                                                                                                                               mkts freak show cash started ended\n",
              "...                                                                                        ...  ...                                                                                                                                                                                                                                                                                                                                                                                                              ...\n",
              "10654                             Re: FW: GIR Settlement Hearings - Practice Cross Examination  ...                                                                                                                                                                                                                                                                                                                                 gir settlement hearing practice cross examination sound like great idea let know\n",
              "10655                                                      Re: crestar / gulf aos contract....  ...  crestar gulf aos contract grant problem want assign agreement want partial assignment unacceptable unless severe document two separate stand alone piece paper assignment talk two spot confirmation one mmbtu per day would assignable one mmbtu per day would assignable call discus grant dan hyvl hou ect ect subject crestar gulf aos contract keyspan crestar would like execute existing contract wor...\n",
              "10656  Question about item #260067307240 AIR-ZONE� PROFESSIONAL 14,000 mg PRO OZONE GENERATOR!  ...  question item air zone professional pro ozone generator ebay sent message ebay member registered nam included show message originated ebay learn question item respond eba sent message behalf ebay member message respo sent using email ebay member directly include email address question ebay member air one positive eedback member sin dec location font united state registered www ebay com item ai...\n",
              "10657                                                               Verify your Paypal Account  ...  verify paypal account recently determined different computer logged paypal account multiple password failure present login one customer service employee already tryed telephonically reach employee manage reach email sent notice therefore account temporary suspended need confirm identity order regain full privilege account completed august reserve right terminate privilege account indefinitly m...\n",
              "10658                                                                     PayPal Notification!  ...  paypal notification paypal dummy body font family verdana arial helvetica sans serif font size color line height ppsmallborder margin ppsmallborderli margin pp_narrow margin dotted width margin top margin bottom border left fff border right fff border top fff border bottom dotted ccc pp_label font family verdana arial helvetica sans serif font size font weight bold color pp_serifbig font famil...\n",
              "\n",
              "[15050 rows x 3 columns]"
            ]
          },
          "metadata": {},
          "execution_count": 16
        }
      ]
    },
    {
      "cell_type": "code",
      "source": [
        "df.to_pickle('startup2.pkl')"
      ],
      "metadata": {
        "id": "Zn1dM1nkQu0P"
      },
      "execution_count": 17,
      "outputs": []
    },
    {
      "cell_type": "markdown",
      "source": [
        "# Предсказание"
      ],
      "metadata": {
        "id": "oyTbKjMvvQEC"
      }
    },
    {
      "cell_type": "code",
      "source": [
        "import pickle\n",
        "import pandas as pd\n",
        "import re\n",
        "\n",
        "import nltk.corpus\n",
        "nltk.download('stopwords')\n",
        "nltk.download('wordnet')\n",
        "from nltk.corpus import stopwords\n",
        "from nltk.stem import WordNetLemmatizer"
      ],
      "metadata": {
        "id": "yBQeCaXm7ErH",
        "colab": {
          "base_uri": "https://localhost:8080/"
        },
        "outputId": "257ffd19-0769-4e12-8576-ecb365a45223"
      },
      "execution_count": 18,
      "outputs": [
        {
          "output_type": "stream",
          "name": "stdout",
          "text": [
            "[nltk_data] Downloading package stopwords to /root/nltk_data...\n",
            "[nltk_data]   Package stopwords is already up-to-date!\n",
            "[nltk_data] Downloading package wordnet to /root/nltk_data...\n",
            "[nltk_data]   Package wordnet is already up-to-date!\n"
          ]
        }
      ]
    },
    {
      "cell_type": "code",
      "source": [
        "with open('model1.pkl', 'rb') as f:\n",
        "    model = pickle.load(f)"
      ],
      "metadata": {
        "colab": {
          "base_uri": "https://localhost:8080/"
        },
        "id": "ajifKr5zvcc7",
        "outputId": "f88e131a-03de-47bf-e1b0-f68948af675e"
      },
      "execution_count": 20,
      "outputs": [
        {
          "output_type": "stream",
          "name": "stderr",
          "text": [
            "/usr/local/lib/python3.7/dist-packages/sklearn/base.py:333: UserWarning: Trying to unpickle estimator TfidfTransformer from version 0.24.2 when using version 1.0.1. This might lead to breaking code or invalid results. Use at your own risk. For more info please refer to:\n",
            "https://scikit-learn.org/stable/modules/model_persistence.html#security-maintainability-limitations\n",
            "  UserWarning,\n",
            "/usr/local/lib/python3.7/dist-packages/sklearn/base.py:333: UserWarning: Trying to unpickle estimator TfidfVectorizer from version 0.24.2 when using version 1.0.1. This might lead to breaking code or invalid results. Use at your own risk. For more info please refer to:\n",
            "https://scikit-learn.org/stable/modules/model_persistence.html#security-maintainability-limitations\n",
            "  UserWarning,\n",
            "/usr/local/lib/python3.7/dist-packages/sklearn/base.py:333: UserWarning: Trying to unpickle estimator SGDClassifier from version 0.24.2 when using version 1.0.1. This might lead to breaking code or invalid results. Use at your own risk. For more info please refer to:\n",
            "https://scikit-learn.org/stable/modules/model_persistence.html#security-maintainability-limitations\n",
            "  UserWarning,\n",
            "/usr/local/lib/python3.7/dist-packages/sklearn/base.py:333: UserWarning: Trying to unpickle estimator Pipeline from version 0.24.2 when using version 1.0.1. This might lead to breaking code or invalid results. Use at your own risk. For more info please refer to:\n",
            "https://scikit-learn.org/stable/modules/model_persistence.html#security-maintainability-limitations\n",
            "  UserWarning,\n",
            "/usr/local/lib/python3.7/dist-packages/sklearn/base.py:333: UserWarning: Trying to unpickle estimator GridSearchCV from version 0.24.2 when using version 1.0.1. This might lead to breaking code or invalid results. Use at your own risk. For more info please refer to:\n",
            "https://scikit-learn.org/stable/modules/model_persistence.html#security-maintainability-limitations\n",
            "  UserWarning,\n"
          ]
        }
      ]
    },
    {
      "cell_type": "code",
      "source": [
        "stop = stopwords.words('english')\n",
        "lemmatizer = WordNetLemmatizer()"
      ],
      "metadata": {
        "id": "UTZqUM17wpvM"
      },
      "execution_count": 22,
      "outputs": []
    },
    {
      "cell_type": "code",
      "source": [
        "content = 'We recently have determined that different computers have logged \\ninto your PayPal account, and multiple password failures were present before \\nthe login. One of our Customer Service employees has already tryed to \\ntelephonically reach you. As our employee did not manage to reach you, this \\nemail has been sent to your notice.Therefore your account has been temporary \\nsuspended. '\n",
        "content = pd.Series(content)\n",
        "content = content.str.lower()\n",
        "content = content.apply(lambda x: re.sub(r'[\\W\\d]', \" \", x))\n",
        "content = content.apply(lambda x: \" \".join([lemmatizer.lemmatize(word) for word in x.split() if word not in (stop)]))\n",
        "content = content.apply(lambda x: \" \".join([word for word in x.split() if len(word) > 2]))\n",
        "content"
      ],
      "metadata": {
        "colab": {
          "base_uri": "https://localhost:8080/"
        },
        "id": "lJhTFP7Jwqi_",
        "outputId": "e246d078-a390-45e9-e498-497b14d03a57"
      },
      "execution_count": 26,
      "outputs": [
        {
          "output_type": "execute_result",
          "data": {
            "text/plain": [
              "0    recently determined different computer logged paypal account multiple password failure present login one customer service employee already tryed telephonically reach employee manage reach email sent notice therefore account temporary suspended\n",
              "dtype: object"
            ]
          },
          "metadata": {},
          "execution_count": 26
        }
      ]
    },
    {
      "cell_type": "code",
      "source": [
        "pred = model.predict_proba(content)[0,1]\n",
        "pred = int(pred >= 0.85)\n",
        "pred"
      ],
      "metadata": {
        "colab": {
          "base_uri": "https://localhost:8080/"
        },
        "id": "w2mKnTJ7wuUr",
        "outputId": "cebfcf71-e861-4e00-cd8f-0eff64f68034"
      },
      "execution_count": 39,
      "outputs": [
        {
          "output_type": "execute_result",
          "data": {
            "text/plain": [
              "1"
            ]
          },
          "metadata": {},
          "execution_count": 39
        }
      ]
    },
    {
      "cell_type": "code",
      "source": [
        ""
      ],
      "metadata": {
        "id": "MPko-9M4wwPS"
      },
      "execution_count": null,
      "outputs": []
    },
    {
      "cell_type": "code",
      "source": [
        ""
      ],
      "metadata": {
        "id": "vcsCg7A9wwSK"
      },
      "execution_count": null,
      "outputs": []
    }
  ]
}